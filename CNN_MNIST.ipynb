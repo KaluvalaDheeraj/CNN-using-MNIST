{
 "cells": [
  {
   "cell_type": "code",
   "execution_count": 1,
   "metadata": {
    "colab": {
     "base_uri": "https://localhost:8080/",
     "height": 119
    },
    "colab_type": "code",
    "id": "H9EU0e8yzFOm",
    "outputId": "987ee5ac-e686-4688-f8b1-9027154d413e"
   },
   "outputs": [
    {
     "name": "stderr",
     "output_type": "stream",
     "text": [
      "Using TensorFlow backend.\n"
     ]
    },
    {
     "name": "stdout",
     "output_type": "stream",
     "text": [
      "Downloading data from https://s3.amazonaws.com/img-datasets/mnist.npz\n",
      "11493376/11490434 [==============================] - 2s 0us/step\n",
      "x_train shape: (60000, 28, 28, 1)\n",
      "60000 train samples\n",
      "10000 test samples\n"
     ]
    }
   ],
   "source": [
    "# Credits: https://github.com/keras-team/keras/blob/master/examples/mnist_cnn.py\n",
    "\n",
    "import warnings\n",
    "warnings.filterwarnings(\"ignore\", category=DeprecationWarning)\n",
    "from __future__ import print_function\n",
    "import keras\n",
    "from keras.datasets import mnist\n",
    "from keras.models import Sequential\n",
    "from keras.layers import Dense, Dropout, Flatten\n",
    "from keras.layers import Conv2D, MaxPooling2D\n",
    "from keras import backend as K\n",
    "import pandas as pd\n",
    "import numpy as np\n",
    "import time\n",
    "import matplotlib.pyplot as plt\n",
    "batch_size = 128\n",
    "num_classes = 10\n",
    "epochs = 12\n",
    "\n",
    "# input image dimensions\n",
    "img_rows, img_cols = 28, 28\n",
    "\n",
    "# the data, split between train and test sets\n",
    "(x_train, y_train), (x_test, y_test) = mnist.load_data()\n",
    "\n",
    "if K.image_data_format() == 'channels_first':\n",
    "    x_train = x_train.reshape(x_train.shape[0], 1, img_rows, img_cols)\n",
    "    x_test = x_test.reshape(x_test.shape[0], 1, img_rows, img_cols)\n",
    "    input_shape = (1, img_rows, img_cols)\n",
    "else:\n",
    "    x_train = x_train.reshape(x_train.shape[0], img_rows, img_cols, 1)\n",
    "    x_test = x_test.reshape(x_test.shape[0], img_rows, img_cols, 1)\n",
    "    input_shape = (img_rows, img_cols, 1)\n",
    "\n",
    "x_train = x_train.astype('float32')\n",
    "x_test = x_test.astype('float32')\n",
    "x_train /= 255\n",
    "x_test /= 255\n",
    "print('x_train shape:', x_train.shape)\n",
    "print(x_train.shape[0], 'train samples')\n",
    "print(x_test.shape[0], 'test samples')\n",
    "\n",
    "# convert class vectors to binary class matrices\n",
    "y_train = keras.utils.to_categorical(y_train, num_classes)\n",
    "y_test = keras.utils.to_categorical(y_test, num_classes)\n",
    "\n",
    "def plt_dynamic(x, vy, ty, ax, colors=['b']):\n",
    "    ax.plot(x, vy, 'b', label=\"Validation Loss\")\n",
    "    ax.plot(x, ty, 'r', label=\"Train Loss\")\n",
    "    plt.legend()\n",
    "    plt.grid()\n",
    "    fig.canvas.draw()"
   ]
  },
  {
   "cell_type": "code",
   "execution_count": 2,
   "metadata": {
    "colab": {
     "base_uri": "https://localhost:8080/",
     "height": 683
    },
    "colab_type": "code",
    "id": "kxR6SEdMb563",
    "outputId": "d5533c43-d473-42bf-c659-d8ae29daa3df"
   },
   "outputs": [
    {
     "name": "stdout",
     "output_type": "stream",
     "text": [
      "WARNING:tensorflow:From /usr/local/lib/python3.6/dist-packages/tensorflow/python/framework/op_def_library.py:263: colocate_with (from tensorflow.python.framework.ops) is deprecated and will be removed in a future version.\n",
      "Instructions for updating:\n",
      "Colocations handled automatically by placer.\n",
      "WARNING:tensorflow:From /usr/local/lib/python3.6/dist-packages/keras/backend/tensorflow_backend.py:3445: calling dropout (from tensorflow.python.ops.nn_ops) with keep_prob is deprecated and will be removed in a future version.\n",
      "Instructions for updating:\n",
      "Please use `rate` instead of `keep_prob`. Rate should be set to `rate = 1 - keep_prob`.\n",
      "WARNING:tensorflow:From /usr/local/lib/python3.6/dist-packages/tensorflow/python/ops/math_ops.py:3066: to_int32 (from tensorflow.python.ops.math_ops) is deprecated and will be removed in a future version.\n",
      "Instructions for updating:\n",
      "Use tf.cast instead.\n",
      "Train on 60000 samples, validate on 10000 samples\n",
      "Epoch 1/12\n",
      "60000/60000 [==============================] - 22s 364us/step - loss: 0.2438 - acc: 0.9231 - val_loss: 0.0540 - val_acc: 0.9828\n",
      "Epoch 2/12\n",
      "60000/60000 [==============================] - 17s 278us/step - loss: 0.0757 - acc: 0.9782 - val_loss: 0.0328 - val_acc: 0.9890\n",
      "Epoch 3/12\n",
      "60000/60000 [==============================] - 17s 279us/step - loss: 0.0553 - acc: 0.9836 - val_loss: 0.0296 - val_acc: 0.9899\n",
      "Epoch 4/12\n",
      "60000/60000 [==============================] - 17s 279us/step - loss: 0.0441 - acc: 0.9868 - val_loss: 0.0253 - val_acc: 0.9914\n",
      "Epoch 5/12\n",
      "60000/60000 [==============================] - 17s 279us/step - loss: 0.0376 - acc: 0.9889 - val_loss: 0.0272 - val_acc: 0.9908\n",
      "Epoch 6/12\n",
      "60000/60000 [==============================] - 17s 278us/step - loss: 0.0334 - acc: 0.9898 - val_loss: 0.0252 - val_acc: 0.9914\n",
      "Epoch 7/12\n",
      "60000/60000 [==============================] - 17s 279us/step - loss: 0.0292 - acc: 0.9908 - val_loss: 0.0283 - val_acc: 0.9907\n",
      "Epoch 8/12\n",
      "60000/60000 [==============================] - 17s 279us/step - loss: 0.0259 - acc: 0.9923 - val_loss: 0.0218 - val_acc: 0.9933\n",
      "Epoch 9/12\n",
      "60000/60000 [==============================] - 17s 279us/step - loss: 0.0231 - acc: 0.9930 - val_loss: 0.0217 - val_acc: 0.9930\n",
      "Epoch 10/12\n",
      "60000/60000 [==============================] - 17s 279us/step - loss: 0.0212 - acc: 0.9934 - val_loss: 0.0239 - val_acc: 0.9928\n",
      "Epoch 11/12\n",
      "60000/60000 [==============================] - 17s 279us/step - loss: 0.0184 - acc: 0.9942 - val_loss: 0.0240 - val_acc: 0.9930\n",
      "Epoch 12/12\n",
      "60000/60000 [==============================] - 17s 278us/step - loss: 0.0180 - acc: 0.9944 - val_loss: 0.0284 - val_acc: 0.9915\n",
      "Test loss: 0.028355687151700202\n",
      "Test accuracy: 0.9915\n",
      "Train loss: 0.006024060836919694\n",
      "Train accuracy: 0.9980833333333333\n"
     ]
    }
   ],
   "source": [
    "model = Sequential()\n",
    "model.add(Conv2D(32, kernel_size=(3, 3),\n",
    "                 activation='relu',\n",
    "                 input_shape=input_shape))\n",
    "model.add(Conv2D(64, (3, 3), activation='relu'))\n",
    "model.add(Conv2D(128, (3, 3), activation='relu'))\n",
    "model.add(MaxPooling2D(pool_size=(2, 2)))\n",
    "model.add(Dropout(0.25))\n",
    "model.add(Flatten())\n",
    "model.add(Dense(128, activation='relu'))\n",
    "model.add(Dropout(0.5))\n",
    "model.add(Dense(num_classes, activation='softmax'))\n",
    "\n",
    "model.compile(loss=keras.losses.categorical_crossentropy,\n",
    "              optimizer=keras.optimizers.Adadelta(),\n",
    "              metrics=['accuracy'])\n",
    "\n",
    "history=model.fit(x_train, y_train,\n",
    "          batch_size=batch_size,\n",
    "          epochs=epochs,\n",
    "          verbose=1,\n",
    "          validation_data=(x_test, y_test))\n",
    "score = model.evaluate(x_test, y_test, verbose=0)\n",
    "score_train= model.evaluate(x_train, y_train, verbose=0)\n",
    "print('Test loss:', score[0])\n",
    "print('Test accuracy:', score[1])\n",
    "print('Train loss:', score_train[0])\n",
    "print('Train accuracy:', score_train[1])"
   ]
  },
  {
   "cell_type": "code",
   "execution_count": 3,
   "metadata": {
    "colab": {
     "base_uri": "https://localhost:8080/",
     "height": 361
    },
    "colab_type": "code",
    "id": "i46w_ZFdiZ4Z",
    "outputId": "a10aa6ae-1ce7-4f65-db5c-594808887085"
   },
   "outputs": [
    {
     "data": {
      "image/png": "[encoded data removed]",
      "text/plain": [
       "<Figure size 576x396 with 1 Axes>"
      ]
     },
     "metadata": {
      "tags": []
     },
     "output_type": "display_data"
    }
   ],
   "source": [
    "fig,ax = plt.subplots(1,1)\n",
    "ax.set_xlabel('epoch') ; ax.set_ylabel('Loss')\n",
    "\n",
    "# list of epoch numbers\n",
    "x = list(range(1,epochs+1))\n",
    "vy = history.history['val_loss']\n",
    "ty = history.history['loss']\n",
    "plt_dynamic(x, vy, ty, ax)"
   ]
  },
  {
   "cell_type": "code",
   "execution_count": 4,
   "metadata": {
    "colab": {
     "base_uri": "https://localhost:8080/",
     "height": 476
    },
    "colab_type": "code",
    "id": "vqBp-bC74hK_",
    "outputId": "b5ee0ac0-80cd-4c43-fe91-c2e8795437da"
   },
   "outputs": [
    {
     "name": "stdout",
     "output_type": "stream",
     "text": [
      "Train on 60000 samples, validate on 10000 samples\n",
      "Epoch 1/12\n",
      "60000/60000 [==============================] - 17s 291us/step - loss: 0.2632 - acc: 0.9193 - val_loss: 0.0611 - val_acc: 0.9812\n",
      "Epoch 2/12\n",
      "60000/60000 [==============================] - 17s 279us/step - loss: 0.0906 - acc: 0.9733 - val_loss: 0.0442 - val_acc: 0.9842\n",
      "Epoch 3/12\n",
      "60000/60000 [==============================] - 17s 279us/step - loss: 0.0652 - acc: 0.9815 - val_loss: 0.0450 - val_acc: 0.9857\n",
      "Epoch 4/12\n",
      "60000/60000 [==============================] - 17s 280us/step - loss: 0.0521 - acc: 0.9841 - val_loss: 0.0357 - val_acc: 0.9881\n",
      "Epoch 5/12\n",
      "60000/60000 [==============================] - 17s 279us/step - loss: 0.0465 - acc: 0.9857 - val_loss: 0.0323 - val_acc: 0.9891\n",
      "Epoch 6/12\n",
      "60000/60000 [==============================] - 17s 279us/step - loss: 0.0399 - acc: 0.9880 - val_loss: 0.0392 - val_acc: 0.9876\n",
      "Epoch 7/12\n",
      "60000/60000 [==============================] - 17s 278us/step - loss: 0.0349 - acc: 0.9892 - val_loss: 0.0316 - val_acc: 0.9900\n",
      "Epoch 8/12\n",
      "60000/60000 [==============================] - 17s 277us/step - loss: 0.0310 - acc: 0.9905 - val_loss: 0.0355 - val_acc: 0.9888\n",
      "Epoch 9/12\n",
      "60000/60000 [==============================] - 17s 279us/step - loss: 0.0294 - acc: 0.9908 - val_loss: 0.0351 - val_acc: 0.9891\n",
      "Epoch 10/12\n",
      "60000/60000 [==============================] - 17s 279us/step - loss: 0.0264 - acc: 0.9918 - val_loss: 0.0339 - val_acc: 0.9895\n",
      "Epoch 11/12\n",
      "60000/60000 [==============================] - 17s 278us/step - loss: 0.0256 - acc: 0.9921 - val_loss: 0.0292 - val_acc: 0.9911\n",
      "Epoch 12/12\n",
      "60000/60000 [==============================] - 17s 278us/step - loss: 0.0234 - acc: 0.9924 - val_loss: 0.0279 - val_acc: 0.9917\n",
      "Test loss: 0.02789467611800701\n",
      "Test accuracy: 0.9917\n"
     ]
    }
   ],
   "source": [
    "model = Sequential()\n",
    "model.add(Conv2D(32, kernel_size=(2, 2),\n",
    "                 activation='relu',\n",
    "                 input_shape=input_shape))\n",
    "model.add(Conv2D(64, (2, 2), activation='relu'))\n",
    "model.add(Conv2D(128, (2, 2), activation='relu'))\n",
    "model.add(MaxPooling2D(pool_size=(2, 2)))\n",
    "model.add(Dropout(0.25))\n",
    "model.add(Flatten())\n",
    "model.add(Dense(128, activation='relu'))\n",
    "model.add(Dropout(0.5))\n",
    "model.add(Dense(num_classes, activation='softmax'))\n",
    "\n",
    "model.compile(loss=keras.losses.categorical_crossentropy,\n",
    "              optimizer=keras.optimizers.Adadelta(),\n",
    "              metrics=['accuracy'])\n",
    "\n",
    "history=model.fit(x_train, y_train,\n",
    "          batch_size=batch_size,\n",
    "          epochs=epochs,\n",
    "          verbose=1,\n",
    "          validation_data=(x_test, y_test))\n",
    "score = model.evaluate(x_test, y_test, verbose=0)\n",
    "score_train= model.evaluate(x_train, y_train, verbose=0)\n",
    "print('Test loss:', score[0])\n",
    "print('Test accuracy:', score[1])"
   ]
  },
  {
   "cell_type": "code",
   "execution_count": 5,
   "metadata": {
    "colab": {
     "base_uri": "https://localhost:8080/",
     "height": 361
    },
    "colab_type": "code",
    "id": "QJnNEaFW4Ha8",
    "outputId": "9ab7329e-4fbe-459a-99f6-594630a9432e"
   },
   "outputs": [
    {
     "data": {
      "image/png": "[encoded data removed]",
      "text/plain": [
       "<Figure size 576x396 with 1 Axes>"
      ]
     },
     "metadata": {
      "tags": []
     },
     "output_type": "display_data"
    }
   ],
   "source": [
    "fig,ax = plt.subplots(1,1)\n",
    "ax.set_xlabel('epoch') ; ax.set_ylabel('Loss')\n",
    "\n",
    "# list of epoch numbers\n",
    "x = list(range(1,epochs+1))\n",
    "vy = history.history['val_loss']\n",
    "ty = history.history['loss']\n",
    "plt_dynamic(x, vy, ty, ax)"
   ]
  },
  {
   "cell_type": "code",
   "execution_count": 6,
   "metadata": {
    "colab": {
     "base_uri": "https://localhost:8080/",
     "height": 476
    },
    "colab_type": "code",
    "id": "5E6Qhuk14NyA",
    "outputId": "1717715a-16ff-4b57-f09e-d06b02b0f38e"
   },
   "outputs": [
    {
     "name": "stdout",
     "output_type": "stream",
     "text": [
      "Train on 60000 samples, validate on 10000 samples\n",
      "Epoch 1/12\n",
      "60000/60000 [==============================] - 15s 244us/step - loss: 0.2231 - acc: 0.9304 - val_loss: 0.0444 - val_acc: 0.9854\n",
      "Epoch 2/12\n",
      "60000/60000 [==============================] - 14s 229us/step - loss: 0.0658 - acc: 0.9809 - val_loss: 0.0368 - val_acc: 0.9887\n",
      "Epoch 3/12\n",
      "60000/60000 [==============================] - 14s 230us/step - loss: 0.0491 - acc: 0.9861 - val_loss: 0.0257 - val_acc: 0.9916\n",
      "Epoch 4/12\n",
      "60000/60000 [==============================] - 14s 229us/step - loss: 0.0375 - acc: 0.9891 - val_loss: 0.0224 - val_acc: 0.9922\n",
      "Epoch 5/12\n",
      "60000/60000 [==============================] - 14s 229us/step - loss: 0.0314 - acc: 0.9907 - val_loss: 0.0222 - val_acc: 0.9931\n",
      "Epoch 6/12\n",
      "60000/60000 [==============================] - 14s 229us/step - loss: 0.0270 - acc: 0.9917 - val_loss: 0.0214 - val_acc: 0.9935\n",
      "Epoch 7/12\n",
      "60000/60000 [==============================] - 14s 229us/step - loss: 0.0239 - acc: 0.9929 - val_loss: 0.0169 - val_acc: 0.9942\n",
      "Epoch 8/12\n",
      "60000/60000 [==============================] - 14s 229us/step - loss: 0.0204 - acc: 0.9938 - val_loss: 0.0203 - val_acc: 0.9932\n",
      "Epoch 9/12\n",
      "60000/60000 [==============================] - 14s 228us/step - loss: 0.0190 - acc: 0.9943 - val_loss: 0.0191 - val_acc: 0.9942\n",
      "Epoch 10/12\n",
      "60000/60000 [==============================] - 14s 228us/step - loss: 0.0165 - acc: 0.9950 - val_loss: 0.0223 - val_acc: 0.9932\n",
      "Epoch 11/12\n",
      "60000/60000 [==============================] - 14s 228us/step - loss: 0.0152 - acc: 0.9954 - val_loss: 0.0167 - val_acc: 0.9944\n",
      "Epoch 12/12\n",
      "60000/60000 [==============================] - 14s 228us/step - loss: 0.0141 - acc: 0.9959 - val_loss: 0.0194 - val_acc: 0.9940\n",
      "Test loss: 0.01941563269201415\n",
      "Test accuracy: 0.994\n"
     ]
    }
   ],
   "source": [
    "model = Sequential()\n",
    "model.add(Conv2D(32, kernel_size=(5, 5),\n",
    "                 activation='relu',\n",
    "                 input_shape=input_shape))\n",
    "model.add(Conv2D(64, (5, 5), activation='relu'))\n",
    "model.add(Conv2D(128, (5, 5), activation='relu'))\n",
    "model.add(MaxPooling2D(pool_size=(2, 2)))\n",
    "model.add(Dropout(0.25))\n",
    "model.add(Flatten())\n",
    "model.add(Dense(128, activation='relu'))\n",
    "model.add(Dropout(0.5))\n",
    "model.add(Dense(num_classes, activation='softmax'))\n",
    "\n",
    "model.compile(loss=keras.losses.categorical_crossentropy,\n",
    "              optimizer=keras.optimizers.Adadelta(),\n",
    "              metrics=['accuracy'])\n",
    "\n",
    "history=model.fit(x_train, y_train,\n",
    "          batch_size=batch_size,\n",
    "          epochs=epochs,\n",
    "          verbose=1,\n",
    "          validation_data=(x_test, y_test))\n",
    "score = model.evaluate(x_test, y_test, verbose=0)\n",
    "score_train= model.evaluate(x_train, y_train, verbose=0)\n",
    "\n",
    "print('Test loss:', score[0])\n",
    "print('Test accuracy:', score[1])"
   ]
  },
  {
   "cell_type": "code",
   "execution_count": 7,
   "metadata": {
    "colab": {
     "base_uri": "https://localhost:8080/",
     "height": 361
    },
    "colab_type": "code",
    "id": "dra55gDb4JJ2",
    "outputId": "4eec76cd-0cc7-4d10-a6d3-34e7abeed096"
   },
   "outputs": [
    {
     "data": {
      "image/png": "[encoded data removed]",
      "text/plain": [
       "<Figure size 576x396 with 1 Axes>"
      ]
     },
     "metadata": {
      "tags": []
     },
     "output_type": "display_data"
    }
   ],
   "source": [
    "fig,ax = plt.subplots(1,1)\n",
    "ax.set_xlabel('epoch') ; ax.set_ylabel('Loss')\n",
    "\n",
    "# list of epoch numbers\n",
    "x = list(range(1,epochs+1))\n",
    "vy = history.history['val_loss']\n",
    "ty = history.history['loss']\n",
    "plt_dynamic(x, vy, ty, ax)"
   ]
  },
  {
   "cell_type": "raw",
   "metadata": {
    "colab_type": "text",
    "id": "xiIjnzI2QXQW"
   },
   "source": [
    "                    Test Accuracy - Test Loss\n",
    "---------------------------------------------------\n",
    "kernal_size(3,3)--    0.9915        0.02835\n",
    "kernal_size(2,2)--    0.9917        0.02789 \n",
    "kernal_size(5,5)--    0.994         0.01941 "
   ]
  },
  {
   "cell_type": "markdown",
   "metadata": {},
   "source": [
    "#### Architecture 2"
   ]
  },
  {
   "cell_type": "code",
   "execution_count": 2,
   "metadata": {
    "colab": {
     "base_uri": "https://localhost:8080/",
     "height": 649
    },
    "colab_type": "code",
    "id": "ExbUXn124msj",
    "outputId": "66e67a0c-f60f-469d-b47b-7d29adc1b18d"
   },
   "outputs": [
    {
     "name": "stdout",
     "output_type": "stream",
     "text": [
      "WARNING:tensorflow:From /usr/local/lib/python3.6/dist-packages/tensorflow/python/framework/op_def_library.py:263: colocate_with (from tensorflow.python.framework.ops) is deprecated and will be removed in a future version.\n",
      "Instructions for updating:\n",
      "Colocations handled automatically by placer.\n",
      "WARNING:tensorflow:From /usr/local/lib/python3.6/dist-packages/keras/backend/tensorflow_backend.py:3445: calling dropout (from tensorflow.python.ops.nn_ops) with keep_prob is deprecated and will be removed in a future version.\n",
      "Instructions for updating:\n",
      "Please use `rate` instead of `keep_prob`. Rate should be set to `rate = 1 - keep_prob`.\n",
      "WARNING:tensorflow:From /usr/local/lib/python3.6/dist-packages/tensorflow/python/ops/math_ops.py:3066: to_int32 (from tensorflow.python.ops.math_ops) is deprecated and will be removed in a future version.\n",
      "Instructions for updating:\n",
      "Use tf.cast instead.\n",
      "Train on 60000 samples, validate on 10000 samples\n",
      "Epoch 1/12\n",
      "60000/60000 [==============================] - 75s 1ms/step - loss: 0.3137 - acc: 0.9058 - val_loss: 0.0531 - val_acc: 0.9830\n",
      "Epoch 2/12\n",
      "60000/60000 [==============================] - 67s 1ms/step - loss: 0.0795 - acc: 0.9767 - val_loss: 0.0336 - val_acc: 0.9889\n",
      "Epoch 3/12\n",
      "60000/60000 [==============================] - 67s 1ms/step - loss: 0.0562 - acc: 0.9841 - val_loss: 0.0281 - val_acc: 0.9902\n",
      "Epoch 4/12\n",
      "60000/60000 [==============================] - 67s 1ms/step - loss: 0.0452 - acc: 0.9870 - val_loss: 0.0257 - val_acc: 0.9907\n",
      "Epoch 5/12\n",
      "60000/60000 [==============================] - 67s 1ms/step - loss: 0.0373 - acc: 0.9893 - val_loss: 0.0288 - val_acc: 0.9907\n",
      "Epoch 6/12\n",
      "60000/60000 [==============================] - 67s 1ms/step - loss: 0.0304 - acc: 0.9911 - val_loss: 0.0247 - val_acc: 0.9926\n",
      "Epoch 7/12\n",
      "60000/60000 [==============================] - 67s 1ms/step - loss: 0.0270 - acc: 0.9916 - val_loss: 0.0224 - val_acc: 0.9928\n",
      "Epoch 8/12\n",
      "60000/60000 [==============================] - 67s 1ms/step - loss: 0.0241 - acc: 0.9925 - val_loss: 0.0204 - val_acc: 0.9936\n",
      "Epoch 9/12\n",
      "60000/60000 [==============================] - 67s 1ms/step - loss: 0.0213 - acc: 0.9935 - val_loss: 0.0249 - val_acc: 0.9941\n",
      "Epoch 10/12\n",
      "60000/60000 [==============================] - 67s 1ms/step - loss: 0.0191 - acc: 0.9940 - val_loss: 0.0206 - val_acc: 0.9933\n",
      "Epoch 11/12\n",
      "60000/60000 [==============================] - 67s 1ms/step - loss: 0.0172 - acc: 0.9949 - val_loss: 0.0200 - val_acc: 0.9946\n",
      "Epoch 12/12\n",
      "60000/60000 [==============================] - 67s 1ms/step - loss: 0.0148 - acc: 0.9958 - val_loss: 0.0216 - val_acc: 0.9938\n",
      "Test loss: 0.021617596699790555\n",
      "Test accuracy: 0.9938\n"
     ]
    }
   ],
   "source": [
    "model = Sequential()\n",
    "model.add(Conv2D(32, kernel_size=(3, 3),\n",
    "                 activation='relu',\n",
    "                 input_shape=input_shape))\n",
    "model.add(Conv2D(64, (3, 3), activation='relu'))\n",
    "model.add(Conv2D(128, (3, 3), activation='relu'))\n",
    "model.add(Conv2D(256, (3, 3), activation='relu'))\n",
    "model.add(Conv2D(512, (3, 3), activation='relu'))\n",
    "model.add(MaxPooling2D(pool_size=(2, 2)))\n",
    "model.add(Dropout(0.25))\n",
    "model.add(Flatten())\n",
    "model.add(Dense(128, activation='relu'))\n",
    "model.add(Dropout(0.5))\n",
    "model.add(Dense(num_classes, activation='softmax'))\n",
    "\n",
    "model.compile(loss=keras.losses.categorical_crossentropy,\n",
    "              optimizer=keras.optimizers.Adadelta(),\n",
    "              metrics=['accuracy'])\n",
    "\n",
    "history=model.fit(x_train, y_train,\n",
    "          batch_size=batch_size,\n",
    "          epochs=epochs,\n",
    "          verbose=1,\n",
    "          validation_data=(x_test, y_test))\n",
    "score = model.evaluate(x_test, y_test, verbose=0)\n",
    "score_train= model.evaluate(x_train, y_train, verbose=0)\n",
    "print('Test loss:', score[0])\n",
    "print('Test accuracy:', score[1])"
   ]
  },
  {
   "cell_type": "code",
   "execution_count": 3,
   "metadata": {
    "colab": {
     "base_uri": "https://localhost:8080/",
     "height": 361
    },
    "colab_type": "code",
    "id": "jyvU8Q8Q4lfu",
    "outputId": "8fd7d187-c3a9-4878-c0a1-5739bfb8c4e8"
   },
   "outputs": [
    {
     "data": {
      "image/png": "[encoded data removed]",
      "text/plain": [
       "<Figure size 576x396 with 1 Axes>"
      ]
     },
     "metadata": {
      "tags": []
     },
     "output_type": "display_data"
    }
   ],
   "source": [
    "fig,ax = plt.subplots(1,1)\n",
    "ax.set_xlabel('epoch') ; ax.set_ylabel('Loss')\n",
    "\n",
    "# list of epoch numbers\n",
    "x = list(range(1,epochs+1))\n",
    "vy = history.history['val_loss']\n",
    "ty = history.history['loss']\n",
    "plt_dynamic(x, vy, ty, ax)"
   ]
  },
  {
   "cell_type": "code",
   "execution_count": 4,
   "metadata": {
    "colab": {
     "base_uri": "https://localhost:8080/",
     "height": 476
    },
    "colab_type": "code",
    "id": "FX5C0ww042k3",
    "outputId": "ef9c0408-2484-4b34-b20b-9af1351ee7fb"
   },
   "outputs": [
    {
     "name": "stdout",
     "output_type": "stream",
     "text": [
      "Train on 60000 samples, validate on 10000 samples\n",
      "Epoch 1/12\n",
      "60000/60000 [==============================] - 114s 2ms/step - loss: 0.3030 - acc: 0.9082 - val_loss: 0.0565 - val_acc: 0.9830\n",
      "Epoch 2/12\n",
      "60000/60000 [==============================] - 111s 2ms/step - loss: 0.0888 - acc: 0.9738 - val_loss: 0.0443 - val_acc: 0.9866\n",
      "Epoch 3/12\n",
      "60000/60000 [==============================] - 111s 2ms/step - loss: 0.0654 - acc: 0.9810 - val_loss: 0.0301 - val_acc: 0.9899\n",
      "Epoch 4/12\n",
      "60000/60000 [==============================] - 111s 2ms/step - loss: 0.0520 - acc: 0.9851 - val_loss: 0.0413 - val_acc: 0.9868\n",
      "Epoch 5/12\n",
      "60000/60000 [==============================] - 110s 2ms/step - loss: 0.0435 - acc: 0.9872 - val_loss: 0.0300 - val_acc: 0.9908\n",
      "Epoch 6/12\n",
      "60000/60000 [==============================] - 110s 2ms/step - loss: 0.0372 - acc: 0.9888 - val_loss: 0.0298 - val_acc: 0.9906\n",
      "Epoch 7/12\n",
      "60000/60000 [==============================] - 110s 2ms/step - loss: 0.0312 - acc: 0.9906 - val_loss: 0.0298 - val_acc: 0.9904\n",
      "Epoch 8/12\n",
      "60000/60000 [==============================] - 109s 2ms/step - loss: 0.0267 - acc: 0.9924 - val_loss: 0.0287 - val_acc: 0.9903\n",
      "Epoch 9/12\n",
      "60000/60000 [==============================] - 109s 2ms/step - loss: 0.0238 - acc: 0.9926 - val_loss: 0.0242 - val_acc: 0.9923\n",
      "Epoch 10/12\n",
      "60000/60000 [==============================] - 109s 2ms/step - loss: 0.0210 - acc: 0.9938 - val_loss: 0.0323 - val_acc: 0.9912\n",
      "Epoch 11/12\n",
      "60000/60000 [==============================] - 109s 2ms/step - loss: 0.0204 - acc: 0.9934 - val_loss: 0.0287 - val_acc: 0.9924\n",
      "Epoch 12/12\n",
      "60000/60000 [==============================] - 109s 2ms/step - loss: 0.0187 - acc: 0.9941 - val_loss: 0.0278 - val_acc: 0.9920\n",
      "Test loss: 0.027766428530688107\n",
      "Test accuracy: 0.992\n"
     ]
    }
   ],
   "source": [
    "model = Sequential()\n",
    "model.add(Conv2D(32, kernel_size=(2, 2),\n",
    "                 activation='relu',\n",
    "                 input_shape=input_shape))\n",
    "model.add(Conv2D(64, (2, 2), activation='relu'))\n",
    "model.add(Conv2D(128, (2, 2), activation='relu'))\n",
    "model.add(Conv2D(256, (2, 2), activation='relu'))\n",
    "model.add(Conv2D(512, (2, 2), activation='relu'))\n",
    "model.add(MaxPooling2D(pool_size=(2, 2)))\n",
    "model.add(Dropout(0.25))\n",
    "model.add(Flatten())\n",
    "model.add(Dense(128, activation='relu'))\n",
    "model.add(Dropout(0.5))\n",
    "model.add(Dense(num_classes, activation='softmax'))\n",
    "\n",
    "model.compile(loss=keras.losses.categorical_crossentropy,\n",
    "              optimizer=keras.optimizers.Adadelta(),\n",
    "              metrics=['accuracy'])\n",
    "\n",
    "history=model.fit(x_train, y_train,\n",
    "          batch_size=batch_size,\n",
    "          epochs=epochs,\n",
    "          verbose=1,\n",
    "          validation_data=(x_test, y_test))\n",
    "score = model.evaluate(x_test, y_test, verbose=0)\n",
    "score_train= model.evaluate(x_train, y_train, verbose=0)\n",
    "print('Test loss:', score[0])\n",
    "print('Test accuracy:', score[1])"
   ]
  },
  {
   "cell_type": "code",
   "execution_count": 5,
   "metadata": {
    "colab": {
     "base_uri": "https://localhost:8080/",
     "height": 361
    },
    "colab_type": "code",
    "id": "0FNGpZ8X4iST",
    "outputId": "16918365-0e3c-4b9b-9fb0-c41b2662b45a"
   },
   "outputs": [
    {
     "data": {
      "image/png": "[encoded data removed]",
      "text/plain": [
       "<Figure size 576x396 with 1 Axes>"
      ]
     },
     "metadata": {
      "tags": []
     },
     "output_type": "display_data"
    }
   ],
   "source": [
    "fig,ax = plt.subplots(1,1)\n",
    "ax.set_xlabel('epoch') ; ax.set_ylabel('Loss')\n",
    "\n",
    "# list of epoch numbers\n",
    "x = list(range(1,epochs+1))\n",
    "vy = history.history['val_loss']\n",
    "ty = history.history['loss']\n",
    "plt_dynamic(x, vy, ty, ax)"
   ]
  },
  {
   "cell_type": "code",
   "execution_count": 6,
   "metadata": {
    "colab": {
     "base_uri": "https://localhost:8080/",
     "height": 476
    },
    "colab_type": "code",
    "id": "yk4PVBvi5EO7",
    "outputId": "15ece12c-ec99-4e2b-e906-d2a35b7e3cb4"
   },
   "outputs": [
    {
     "name": "stdout",
     "output_type": "stream",
     "text": [
      "Train on 60000 samples, validate on 10000 samples\n",
      "Epoch 1/12\n",
      "60000/60000 [==============================] - 47s 787us/step - loss: 0.3803 - acc: 0.8794 - val_loss: 0.0487 - val_acc: 0.9848\n",
      "Epoch 2/12\n",
      "60000/60000 [==============================] - 44s 741us/step - loss: 0.0693 - acc: 0.9808 - val_loss: 0.0371 - val_acc: 0.9890\n",
      "Epoch 3/12\n",
      "60000/60000 [==============================] - 44s 741us/step - loss: 0.0501 - acc: 0.9859 - val_loss: 0.0318 - val_acc: 0.9912\n",
      "Epoch 4/12\n",
      "60000/60000 [==============================] - 44s 741us/step - loss: 0.0389 - acc: 0.9892 - val_loss: 0.0271 - val_acc: 0.9925\n",
      "Epoch 5/12\n",
      "60000/60000 [==============================] - 44s 740us/step - loss: 0.0304 - acc: 0.9915 - val_loss: 0.0240 - val_acc: 0.9937\n",
      "Epoch 6/12\n",
      "60000/60000 [==============================] - 44s 738us/step - loss: 0.0251 - acc: 0.9927 - val_loss: 0.0232 - val_acc: 0.9928\n",
      "Epoch 7/12\n",
      "60000/60000 [==============================] - 44s 737us/step - loss: 0.0206 - acc: 0.9938 - val_loss: 0.0224 - val_acc: 0.9938\n",
      "Epoch 8/12\n",
      "60000/60000 [==============================] - 44s 735us/step - loss: 0.0179 - acc: 0.9951 - val_loss: 0.0283 - val_acc: 0.9926\n",
      "Epoch 9/12\n",
      "60000/60000 [==============================] - 44s 739us/step - loss: 0.0170 - acc: 0.9953 - val_loss: 0.0193 - val_acc: 0.9942\n",
      "Epoch 10/12\n",
      "60000/60000 [==============================] - 44s 734us/step - loss: 0.0140 - acc: 0.9961 - val_loss: 0.0232 - val_acc: 0.9931\n",
      "Epoch 11/12\n",
      "60000/60000 [==============================] - 44s 734us/step - loss: 0.0124 - acc: 0.9963 - val_loss: 0.0205 - val_acc: 0.9944\n",
      "Epoch 12/12\n",
      "60000/60000 [==============================] - 44s 733us/step - loss: 0.0128 - acc: 0.9965 - val_loss: 0.0231 - val_acc: 0.9936\n",
      "Test loss: 0.023097450128249694\n",
      "Test accuracy: 0.9936\n"
     ]
    }
   ],
   "source": [
    "model = Sequential()\n",
    "model.add(Conv2D(64, kernel_size=(5, 5),\n",
    "                 activation='relu',\n",
    "                 input_shape=input_shape))\n",
    "model.add(Conv2D(64, (5, 5), activation='relu'))\n",
    "model.add(Conv2D(128, (5, 5), activation='relu'))\n",
    "model.add(Conv2D(256, (5, 5), activation='relu'))\n",
    "model.add(Conv2D(512, (5, 5), activation='relu'))\n",
    "model.add(MaxPooling2D(pool_size=(2, 2)))\n",
    "model.add(Dropout(0.25))\n",
    "model.add(Flatten())\n",
    "model.add(Dense(128, activation='relu'))\n",
    "model.add(Dropout(0.5))\n",
    "model.add(Dense(num_classes, activation='softmax'))\n",
    "\n",
    "model.compile(loss=keras.losses.categorical_crossentropy,\n",
    "              optimizer=keras.optimizers.Adadelta(),\n",
    "              metrics=['accuracy'])\n",
    "\n",
    "history=model.fit(x_train, y_train,\n",
    "          batch_size=batch_size,\n",
    "          epochs=epochs,\n",
    "          verbose=1,\n",
    "          validation_data=(x_test, y_test))\n",
    "score = model.evaluate(x_test, y_test, verbose=0)\n",
    "score_train= model.evaluate(x_train, y_train, verbose=0)\n",
    "print('Test loss:', score[0])\n",
    "print('Test accuracy:', score[1])"
   ]
  },
  {
   "cell_type": "code",
   "execution_count": 7,
   "metadata": {
    "colab": {
     "base_uri": "https://localhost:8080/",
     "height": 361
    },
    "colab_type": "code",
    "id": "lCfUUjmDQuUr",
    "outputId": "43eb651c-1d64-4839-98dd-9cc4b317e834"
   },
   "outputs": [
    {
     "data": {
      "image/png": "[encoded data removed]",
      "text/plain": [
       "<Figure size 576x396 with 1 Axes>"
      ]
     },
     "metadata": {
      "tags": []
     },
     "output_type": "display_data"
    }
   ],
   "source": [
    "fig,ax = plt.subplots(1,1)\n",
    "ax.set_xlabel('epoch') ; ax.set_ylabel('Loss')\n",
    "\n",
    "# list of epoch numbers\n",
    "x = list(range(1,epochs+1))\n",
    "vy = history.history['val_loss']\n",
    "ty = history.history['loss']\n",
    "plt_dynamic(x, vy, ty, ax)"
   ]
  },
  {
   "cell_type": "raw",
   "metadata": {
    "colab": {},
    "colab_type": "code",
    "id": "8GSAL-tOQ2Ql"
   },
   "source": [
    "                    Test Accuracy - Test Loss\n",
    "---------------------------------------------------\n",
    "kernal_size(3,3)--  0.9938          0.021617  \n",
    "kernal_size(2,2)--  0.992           0.02776\n",
    "kernal_size(5,5)--  0.9936          0.023097"
   ]
  },
  {
   "cell_type": "code",
   "execution_count": null,
   "metadata": {},
   "outputs": [],
   "source": []
  }
 ],
 "metadata": {
  "accelerator": "GPU",
  "colab": {
   "collapsed_sections": [],
   "name": "CNN_MNIST.ipynb",
   "provenance": [],
   "version": "0.3.2"
  },
  "kernelspec": {
   "display_name": "Python 3",
   "language": "python",
   "name": "python3"
  },
  "language_info": {
   "codemirror_mode": {
    "name": "ipython",
    "version": 3
   },
   "file_extension": ".py",
   "mimetype": "text/x-python",
   "name": "python",
   "nbconvert_exporter": "python",
   "pygments_lexer": "ipython3",
   "version": "3.6.5"
  }
 },
 "nbformat": 4,
 "nbformat_minor": 1
}
